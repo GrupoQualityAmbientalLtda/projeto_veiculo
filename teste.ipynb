{
 "cells": [
  {
   "cell_type": "code",
   "execution_count": 2,
   "metadata": {},
   "outputs": [],
   "source": [
    "from src.models.avaria import Avaria\n",
    "from src.models.destinos import Destino\n",
    "from src.models.formulario import Formulario\n",
    "from src.models.permissao import Permissao\n",
    "from src.models.registros import Registro\n",
    "from src.models.revisao import Revisao\n",
    "from src.models.status_revisao import StatusRevisao\n",
    "from src.models.usuario import Usuario\n",
    "from src.models.veiculo import Veiculo\n",
    "from src.models.formulario import TipoEnum\n",
    "from src.database.db import *\n",
    "\n",
    "from src.dao.dao_avaria import DaoAvaria\n",
    "from src.dao.dao_formulario import DaoFormulario\n",
    "from src.dao.dao_usuario import DaoUsuario\n",
    "from src.dao.dao_veiculo import DaoVeiculo\n",
    "\n",
    "from src.controller.controller_avaria import ControllerAvaria\n",
    "\n",
    "from datetime import datetime"
   ]
  },
  {
   "cell_type": "code",
   "execution_count": 3,
   "metadata": {},
   "outputs": [
    {
     "name": "stdout",
     "output_type": "stream",
     "text": [
      "2025-04-04 12:42:39,516 INFO sqlalchemy.engine.Engine BEGIN (implicit)\n",
      "2025-04-04 12:42:39,522 INFO sqlalchemy.engine.Engine INSERT INTO avarias (agua_para_brisa, adesivos, alto_falante_saida_de_som, arranhados, bancos_encostos_assentos, buzina, chave_de_roda, cintos_de_seguranca, documentos_de_carro, farol_alto, farol_baixo, fechamento_das_janelas, lanternas_frente_e_traseira, lataria_amassados, limpador_para_brisa, limpador_para_brisa_traseiro, luz_da_placa_licenca, luz_de_freio, luz_de_re, luz_interna, luzes_painel, macaco, nivel_da_agua_radiador, oleo_do_freio, oleo_do_motor, para_brisa, para_choque_dianteiro, para_choque_traseiro, pisca_alerta, pneu_estado_assentos, pneu_reserva_estepe, portas_travas, quebra_sol, retrovisores_externos, retrovisores_internos, seta_direita_e_esquerda, tapete, triangulo_de_sinalizacao, velocimetro_tacografo) VALUES (?, ?, ?, ?, ?, ?, ?, ?, ?, ?, ?, ?, ?, ?, ?, ?, ?, ?, ?, ?, ?, ?, ?, ?, ?, ?, ?, ?, ?, ?, ?, ?, ?, ?, ?, ?, ?, ?, ?)\n",
      "2025-04-04 12:42:39,524 INFO sqlalchemy.engine.Engine [generated in 0.00244s] (1, 1, 0, 0, 0, 0, 0, 0, 0, 0, 0, 0, 0, 0, 0, 0, 0, 0, 0, 0, 0, 0, 0, 0, 0, 0, 0, 0, 0, 0, 0, 0, 0, 0, 0, 0, 0, 0, 0)\n",
      "2025-04-04 12:42:39,527 INFO sqlalchemy.engine.Engine COMMIT\n"
     ]
    }
   ],
   "source": [
    "session = create_session()\n",
    "\n",
    "criar_avaria = DaoAvaria.criar_avaria(session,agua_para_brisa= True, adesivos= True)\n",
    "\n",
    "session.close()\n",
    "\n",
    "# Conferir se é valido o nullable=false"
   ]
  },
  {
   "cell_type": "markdown",
   "metadata": {},
   "source": []
  }
 ],
 "metadata": {
  "kernelspec": {
   "display_name": ".venv",
   "language": "python",
   "name": "python3"
  },
  "language_info": {
   "codemirror_mode": {
    "name": "ipython",
    "version": 3
   },
   "file_extension": ".py",
   "mimetype": "text/x-python",
   "name": "python",
   "nbconvert_exporter": "python",
   "pygments_lexer": "ipython3",
   "version": "3.13.2"
  }
 },
 "nbformat": 4,
 "nbformat_minor": 2
}
