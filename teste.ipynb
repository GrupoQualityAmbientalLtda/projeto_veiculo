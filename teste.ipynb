{
 "cells": [
  {
   "cell_type": "code",
   "execution_count": 1,
   "metadata": {},
   "outputs": [],
   "source": [
    "from src.models.avaria import Avaria\n",
    "from src.models.destinos import Destino\n",
    "from src.models.formulario import Formulario\n",
    "from src.models.permissao import Permissao\n",
    "from src.models.registros import Registro\n",
    "from src.models.revisao import Revisao\n",
    "from src.models.status_revisao import StatusRevisao\n",
    "from src.models.usuario import Usuario\n",
    "from src.models.veiculo import Veiculo\n",
    "from src.models.formulario import TipoEnum\n",
    "from src.database.db import *\n",
    "\n",
    "from src.dao.dao_avaria import DaoAvaria\n",
    "from src.dao.dao_formulario import DaoFormulario\n",
    "from src.dao.dao_usuario import DaoUsuario\n",
    "from src.dao.dao_veiculo import DaoVeiculo\n",
    "\n",
    "from src.controller.controller_avaria import ControllerAvaria\n",
    "\n",
    "from datetime import datetime"
   ]
  },
  {
   "cell_type": "code",
   "execution_count": null,
   "metadata": {},
   "outputs": [
    {
     "ename": "TypeError",
     "evalue": "DaoAvaria.criar_avaria() missing 36 required positional arguments: 'alto_falante_saida_de_som', 'bancos_encostos_assentos', 'buzina', 'chave_de_roda', 'cintos_de_seguranca', 'documentos_de_carro', 'farol_alto', 'farol_baixo', 'fechamento_das_janelas', 'lanternas_frente_e_traseira', 'lataria_amassados', 'limpador_para_brisa', 'limpador_para_brisa_traseiro', 'luz_da_placa_licenca', 'luz_de_freio', 'luz_de_re', 'luz_interna', 'luzes_painel', 'macaco', 'nivel_da_agua_radiador', 'oleo_do_freio', 'oleo_do_motor', 'para_brisa', 'para_choque_dianteiro', 'para_choque_traseiro', 'pisca_alerta', 'pneu_estado_assentos', 'pneu_reserva_estepe', 'portas_travas', 'quebra_sol', 'retrovisores_externos', 'retrovisores_internos', 'seta_direita_e_esquerda', 'tapete', 'triangulo_de_sinalizacao', and 'velocimetro_tacografo'",
     "output_type": "error",
     "traceback": [
      "\u001b[31m---------------------------------------------------------------------------\u001b[39m",
      "\u001b[31mTypeError\u001b[39m                                 Traceback (most recent call last)",
      "\u001b[36mCell\u001b[39m\u001b[36m \u001b[39m\u001b[32mIn[3]\u001b[39m\u001b[32m, line 3\u001b[39m\n\u001b[32m      1\u001b[39m session = create_session()\n\u001b[32m----> \u001b[39m\u001b[32m3\u001b[39m criar_avaria = \u001b[43mDaoAvaria\u001b[49m\u001b[43m.\u001b[49m\u001b[43mcriar_avaria\u001b[49m\u001b[43m(\u001b[49m\u001b[43msession\u001b[49m\u001b[43m,\u001b[49m\u001b[43m \u001b[49m\u001b[43magua_para_brisa\u001b[49m\u001b[43m=\u001b[49m\u001b[38;5;28;43;01mTrue\u001b[39;49;00m\u001b[43m,\u001b[49m\u001b[43m \u001b[49m\u001b[43madesivos\u001b[49m\u001b[43m=\u001b[49m\u001b[38;5;28;43;01mFalse\u001b[39;49;00m\u001b[43m,\u001b[49m\u001b[43m \u001b[49m\u001b[43marranhados\u001b[49m\u001b[43m=\u001b[49m\u001b[38;5;28;43;01mTrue\u001b[39;49;00m\u001b[43m)\u001b[49m\n",
      "\u001b[31mTypeError\u001b[39m: DaoAvaria.criar_avaria() missing 36 required positional arguments: 'alto_falante_saida_de_som', 'bancos_encostos_assentos', 'buzina', 'chave_de_roda', 'cintos_de_seguranca', 'documentos_de_carro', 'farol_alto', 'farol_baixo', 'fechamento_das_janelas', 'lanternas_frente_e_traseira', 'lataria_amassados', 'limpador_para_brisa', 'limpador_para_brisa_traseiro', 'luz_da_placa_licenca', 'luz_de_freio', 'luz_de_re', 'luz_interna', 'luzes_painel', 'macaco', 'nivel_da_agua_radiador', 'oleo_do_freio', 'oleo_do_motor', 'para_brisa', 'para_choque_dianteiro', 'para_choque_traseiro', 'pisca_alerta', 'pneu_estado_assentos', 'pneu_reserva_estepe', 'portas_travas', 'quebra_sol', 'retrovisores_externos', 'retrovisores_internos', 'seta_direita_e_esquerda', 'tapete', 'triangulo_de_sinalizacao', and 'velocimetro_tacografo'"
     ]
    }
   ],
   "source": [
    "session = create_session()\n",
    "\n",
    "criar_avaria = DaoAvaria.criar_avaria(session, agua_para_brisa=True, adesivos=False, arranhados=True)\n",
    "\n",
    "# Conferir se é valido o nullable=false"
   ]
  }
 ],
 "metadata": {
  "kernelspec": {
   "display_name": ".venv",
   "language": "python",
   "name": "python3"
  },
  "language_info": {
   "codemirror_mode": {
    "name": "ipython",
    "version": 3
   },
   "file_extension": ".py",
   "mimetype": "text/x-python",
   "name": "python",
   "nbconvert_exporter": "python",
   "pygments_lexer": "ipython3",
   "version": "3.13.2"
  }
 },
 "nbformat": 4,
 "nbformat_minor": 2
}
